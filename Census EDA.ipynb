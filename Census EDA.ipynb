{
 "cells": [
  {
   "cell_type": "code",
   "execution_count": null,
   "id": "6ea58620-6c7a-4736-af2e-b1333fbbf719",
   "metadata": {},
   "outputs": [],
   "source": [
    "\"\"\" Download census data\"\"\"\n",
    "\n",
    "import os\n",
    "import requests\n",
    "\n",
    "import numpy as np\n",
    "import pandas as pd\n",
    "from dotenv import load_dotenv\n",
    "\n",
    "ACS_URL = \"https://api.census.gov/data/2022/acs/acs5\"\n",
    "\n",
    "# Authentication\n",
    "load_dotenv()\n",
    "census_api_key = os.getenv(\"census_api_key\")\n",
    "\n",
    "\n",
    "ACS_URL = \"https://api.census.gov/data/2022/acs/acs5\"\n",
    "\n",
    "# Get variable options\n",
    "response = requests.get(\"https://api.census.gov/data/2022/acs/acs5/variables.json\", timeout=20)\n",
    "variables_json = response.json()\n",
    "\n",
    "variables = pd.DataFrame.from_dict(variables_json[\"variables\"], orient=\"index\")\n",
    "variables = variables.reset_index(names='variable')"
   ]
  },
  {
   "cell_type": "code",
   "execution_count": null,
   "id": "3be3e1a9-7bbf-491a-a94e-d4bb77ba9a57",
   "metadata": {},
   "outputs": [],
   "source": [
    "# B01001: Sex by Age\n",
    "variables_select = variables.loc[variables[\"group\"] == \"B01001\"]\n",
    "variables_select"
   ]
  },
  {
   "cell_type": "code",
   "execution_count": null,
   "id": "e2d44ded-b261-4d92-aa56-916676908a78",
   "metadata": {},
   "outputs": [],
   "source": [
    "list(variables.loc[variables[\"group\"] == \"B01001\",'variable']"
   ]
  },
  {
   "cell_type": "code",
   "execution_count": null,
   "id": "40797bc3-473b-45b4-b3ce-1879406a3d09",
   "metadata": {},
   "outputs": [],
   "source": [
    "params = {\n",
    "    \"get\": f\"NAME,B01001A_001E\",\n",
    "    \"for\": \"state:*\",\n",
    "    \"key\": census_api_key\n",
    "}\n",
    "response = requests.get(ACS_URL, params=params, timeout=20)\n",
    "\n",
    "data = response.json()\n",
    "\n",
    "data_df = pd.DataFrame(data[1:], columns=data[0])\n",
    "data_df"
   ]
  }
 ],
 "metadata": {
  "kernelspec": {
   "display_name": "Python [conda env:base] *",
   "language": "python",
   "name": "conda-base-py"
  },
  "language_info": {
   "codemirror_mode": {
    "name": "ipython",
    "version": 3
   },
   "file_extension": ".py",
   "mimetype": "text/x-python",
   "name": "python",
   "nbconvert_exporter": "python",
   "pygments_lexer": "ipython3",
   "version": "3.12.7"
  }
 },
 "nbformat": 4,
 "nbformat_minor": 5
}
