{
 "cells": [
  {
   "cell_type": "code",
   "execution_count": null,
   "id": "6ea58620-6c7a-4736-af2e-b1333fbbf719",
   "metadata": {},
   "outputs": [],
   "source": [
    "\"\"\" Download census data\"\"\"\n",
    "\n",
    "import os\n",
    "import requests\n",
    "\n",
    "import numpy as np\n",
    "import pandas as pd\n",
    "from dotenv import load_dotenv\n",
    "\n",
    "ACS_URL = \"https://api.census.gov/data/2022/acs/acs5\"\n",
    "\n",
    "# Authentication\n",
    "load_dotenv()\n",
    "census_api_key = os.getenv(\"census_api_key\")\n",
    "\n",
    "\n",
    "ACS_URL = \"https://api.census.gov/data/2022/acs/acs5\"\n",
    "\n",
    "# Get variable options\n",
    "response = requests.get(\"https://api.census.gov/data/2022/acs/acs5/variables.json\", timeout=20)\n",
    "variables_json = response.json()\n",
    "\n",
    "variables = pd.DataFrame.from_dict(variables_json[\"variables\"], orient=\"index\")\n",
    "variables = variables.reset_index(names='variable')"
   ]
  },
  {
   "cell_type": "code",
   "execution_count": null,
   "id": "da11b7df-0ac8-4051-a096-c7261499bd3a",
   "metadata": {},
   "outputs": [],
   "source": [
    "# variables.loc[variables['concept'] == \"Monthly Electricity Costs\"]\n",
    "sorted(variables['group'].unique())"
   ]
  },
  {
   "cell_type": "code",
   "execution_count": null,
   "id": "eeb9f39d-7d40-40b9-92fe-4eca0b7c5298",
   "metadata": {
    "scrolled": true
   },
   "outputs": [],
   "source": [
    "# variables.loc[variables['group'] == \"B01001B\"]\n",
    "variables[['group', 'concept']].drop_duplicates().sort_values(by='group').head(50)\n",
    "\n",
    "# for i in "
   ]
  },
  {
   "cell_type": "code",
   "execution_count": null,
   "id": "f1774245-a61d-498a-acd7-c51488c81c29",
   "metadata": {},
   "outputs": [],
   "source": [
    "for i in sorted(map(str, variables['concept'].unique())):\n",
    "    print(i,\"\\n\")"
   ]
  },
  {
   "cell_type": "code",
   "execution_count": null,
   "id": "3be3e1a9-7bbf-491a-a94e-d4bb77ba9a57",
   "metadata": {},
   "outputs": [],
   "source": [
    "# B01001: Sex by Age\n",
    "variables_select = variables.loc[variables[\"group\"] == \"B01001\"]\n",
    "variables_select"
   ]
  },
  {
   "cell_type": "code",
   "execution_count": null,
   "id": "e2d44ded-b261-4d92-aa56-916676908a78",
   "metadata": {
    "scrolled": true
   },
   "outputs": [],
   "source": [
    "list(variables.loc[variables[\"group\"] == \"B01001\",'variable'])"
   ]
  },
  {
   "cell_type": "code",
   "execution_count": null,
   "id": "40797bc3-473b-45b4-b3ce-1879406a3d09",
   "metadata": {},
   "outputs": [],
   "source": [
    "params = {\n",
    "    \"get\": f\"NAME,B01001A_001E\",\n",
    "    \"for\": \"county:*\",\n",
    "    \"key\": census_api_key\n",
    "}\n",
    "response = requests.get(ACS_URL, params=params, timeout=20)\n",
    "\n",
    "data = response.json()\n",
    "\n",
    "data_df = pd.DataFrame(data[1:], columns=data[0])\n",
    "data_df"
   ]
  },
  {
   "cell_type": "code",
   "execution_count": null,
   "id": "df095e61-74d9-49ab-9009-95a268316c48",
   "metadata": {},
   "outputs": [],
   "source": [
    "data_df.loc[data_df['state'] == \"09\"]"
   ]
  }
 ],
 "metadata": {
  "kernelspec": {
   "display_name": "Python [conda env:base] *",
   "language": "python",
   "name": "conda-base-py"
  },
  "language_info": {
   "codemirror_mode": {
    "name": "ipython",
    "version": 3
   },
   "file_extension": ".py",
   "mimetype": "text/x-python",
   "name": "python",
   "nbconvert_exporter": "python",
   "pygments_lexer": "ipython3",
   "version": "3.12.7"
  }
 },
 "nbformat": 4,
 "nbformat_minor": 5
}
